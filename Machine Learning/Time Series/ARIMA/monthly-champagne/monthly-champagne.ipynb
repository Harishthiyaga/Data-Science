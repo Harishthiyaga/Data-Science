{
 "cells": [
  {
   "cell_type": "markdown",
   "id": "6ac4b059",
   "metadata": {},
   "source": [
    "### ARIMA and Seasonal ARIMA"
   ]
  },
  {
   "cell_type": "markdown",
   "id": "213f3471",
   "metadata": {},
   "source": [
    "#### Autoregressive Integrated Moving Averages"
   ]
  },
  {
   "cell_type": "markdown",
   "id": "a5cd2ea7",
   "metadata": {},
   "source": [
    "The genereal process for the ARIMA models is the following:\n",
    "    \n",
    "- Visualize the time series data\n",
    "- Make the series data stationary (if its not stationary we will try to make it)\n",
    "- Plot the Correlation and AutoCorrelation Charts (helps to tell the lapse value)\n",
    "- Construct ARIMA Mode or SEassonal ARIMA based n the data\n",
    "- Use the model to make predictions (we will be able to predict the data for next 2years)\n",
    "\n",
    "Let's go through these steps!"
   ]
  },
  {
   "cell_type": "code",
   "execution_count": 21,
   "id": "50df1524",
   "metadata": {},
   "outputs": [],
   "source": [
    "import numpy as np\n",
    "import pandas as pd\n",
    "\n",
    "import matplotlib.pyplot as plt\n",
    "%matplotlib inline"
   ]
  },
  {
   "cell_type": "code",
   "execution_count": 67,
   "id": "5a628255",
   "metadata": {},
   "outputs": [],
   "source": [
    "data = pd.read_csv('perrin-freres-monthly-champagne-.csv')"
   ]
  },
  {
   "cell_type": "code",
   "execution_count": 5,
   "id": "26d83e83",
   "metadata": {},
   "outputs": [
    {
     "name": "stdout",
     "output_type": "stream",
     "text": [
      "<class 'pandas.core.frame.DataFrame'>\n",
      "RangeIndex: 107 entries, 0 to 106\n",
      "Data columns (total 2 columns):\n",
      " #   Column                                                  Non-Null Count  Dtype  \n",
      "---  ------                                                  --------------  -----  \n",
      " 0   Month                                                   106 non-null    object \n",
      " 1   Perrin Freres monthly champagne sales millions ?64-?72  105 non-null    float64\n",
      "dtypes: float64(1), object(1)\n",
      "memory usage: 1.8+ KB\n"
     ]
    }
   ],
   "source": [
    "data.info()"
   ]
  },
  {
   "cell_type": "code",
   "execution_count": 68,
   "id": "d3a2e858",
   "metadata": {},
   "outputs": [
    {
     "data": {
      "text/html": [
       "<div>\n",
       "<style scoped>\n",
       "    .dataframe tbody tr th:only-of-type {\n",
       "        vertical-align: middle;\n",
       "    }\n",
       "\n",
       "    .dataframe tbody tr th {\n",
       "        vertical-align: top;\n",
       "    }\n",
       "\n",
       "    .dataframe thead th {\n",
       "        text-align: right;\n",
       "    }\n",
       "</style>\n",
       "<table border=\"1\" class=\"dataframe\">\n",
       "  <thead>\n",
       "    <tr style=\"text-align: right;\">\n",
       "      <th></th>\n",
       "      <th>Month</th>\n",
       "      <th>Perrin Freres monthly champagne sales millions ?64-?72</th>\n",
       "    </tr>\n",
       "  </thead>\n",
       "  <tbody>\n",
       "    <tr>\n",
       "      <th>0</th>\n",
       "      <td>1964-01</td>\n",
       "      <td>2815.0</td>\n",
       "    </tr>\n",
       "    <tr>\n",
       "      <th>1</th>\n",
       "      <td>1964-02</td>\n",
       "      <td>2672.0</td>\n",
       "    </tr>\n",
       "    <tr>\n",
       "      <th>2</th>\n",
       "      <td>1964-03</td>\n",
       "      <td>2755.0</td>\n",
       "    </tr>\n",
       "    <tr>\n",
       "      <th>3</th>\n",
       "      <td>1964-04</td>\n",
       "      <td>2721.0</td>\n",
       "    </tr>\n",
       "    <tr>\n",
       "      <th>4</th>\n",
       "      <td>1964-05</td>\n",
       "      <td>2946.0</td>\n",
       "    </tr>\n",
       "  </tbody>\n",
       "</table>\n",
       "</div>"
      ],
      "text/plain": [
       "     Month  Perrin Freres monthly champagne sales millions ?64-?72\n",
       "0  1964-01                                             2815.0     \n",
       "1  1964-02                                             2672.0     \n",
       "2  1964-03                                             2755.0     \n",
       "3  1964-04                                             2721.0     \n",
       "4  1964-05                                             2946.0     "
      ]
     },
     "execution_count": 68,
     "metadata": {},
     "output_type": "execute_result"
    }
   ],
   "source": [
    "data.head()"
   ]
  },
  {
   "cell_type": "code",
   "execution_count": 69,
   "id": "926e178a",
   "metadata": {},
   "outputs": [
    {
     "data": {
      "text/html": [
       "<div>\n",
       "<style scoped>\n",
       "    .dataframe tbody tr th:only-of-type {\n",
       "        vertical-align: middle;\n",
       "    }\n",
       "\n",
       "    .dataframe tbody tr th {\n",
       "        vertical-align: top;\n",
       "    }\n",
       "\n",
       "    .dataframe thead th {\n",
       "        text-align: right;\n",
       "    }\n",
       "</style>\n",
       "<table border=\"1\" class=\"dataframe\">\n",
       "  <thead>\n",
       "    <tr style=\"text-align: right;\">\n",
       "      <th></th>\n",
       "      <th>Month</th>\n",
       "      <th>Perrin Freres monthly champagne sales millions ?64-?72</th>\n",
       "    </tr>\n",
       "  </thead>\n",
       "  <tbody>\n",
       "    <tr>\n",
       "      <th>102</th>\n",
       "      <td>1972-07</td>\n",
       "      <td>4298.0</td>\n",
       "    </tr>\n",
       "    <tr>\n",
       "      <th>103</th>\n",
       "      <td>1972-08</td>\n",
       "      <td>1413.0</td>\n",
       "    </tr>\n",
       "    <tr>\n",
       "      <th>104</th>\n",
       "      <td>1972-09</td>\n",
       "      <td>5877.0</td>\n",
       "    </tr>\n",
       "    <tr>\n",
       "      <th>105</th>\n",
       "      <td>NaN</td>\n",
       "      <td>NaN</td>\n",
       "    </tr>\n",
       "    <tr>\n",
       "      <th>106</th>\n",
       "      <td>Perrin Freres monthly champagne sales millions...</td>\n",
       "      <td>NaN</td>\n",
       "    </tr>\n",
       "  </tbody>\n",
       "</table>\n",
       "</div>"
      ],
      "text/plain": [
       "                                                 Month  \\\n",
       "102                                            1972-07   \n",
       "103                                            1972-08   \n",
       "104                                            1972-09   \n",
       "105                                                NaN   \n",
       "106  Perrin Freres monthly champagne sales millions...   \n",
       "\n",
       "     Perrin Freres monthly champagne sales millions ?64-?72  \n",
       "102                                             4298.0       \n",
       "103                                             1413.0       \n",
       "104                                             5877.0       \n",
       "105                                                NaN       \n",
       "106                                                NaN       "
      ]
     },
     "execution_count": 69,
     "metadata": {},
     "output_type": "execute_result"
    }
   ],
   "source": [
    "data.tail()"
   ]
  },
  {
   "cell_type": "code",
   "execution_count": 70,
   "id": "cd2c7c76",
   "metadata": {},
   "outputs": [
    {
     "data": {
      "text/html": [
       "<div>\n",
       "<style scoped>\n",
       "    .dataframe tbody tr th:only-of-type {\n",
       "        vertical-align: middle;\n",
       "    }\n",
       "\n",
       "    .dataframe tbody tr th {\n",
       "        vertical-align: top;\n",
       "    }\n",
       "\n",
       "    .dataframe thead th {\n",
       "        text-align: right;\n",
       "    }\n",
       "</style>\n",
       "<table border=\"1\" class=\"dataframe\">\n",
       "  <thead>\n",
       "    <tr style=\"text-align: right;\">\n",
       "      <th></th>\n",
       "      <th>Month</th>\n",
       "      <th>Sales</th>\n",
       "    </tr>\n",
       "  </thead>\n",
       "  <tbody>\n",
       "    <tr>\n",
       "      <th>0</th>\n",
       "      <td>1964-01</td>\n",
       "      <td>2815.0</td>\n",
       "    </tr>\n",
       "    <tr>\n",
       "      <th>1</th>\n",
       "      <td>1964-02</td>\n",
       "      <td>2672.0</td>\n",
       "    </tr>\n",
       "    <tr>\n",
       "      <th>2</th>\n",
       "      <td>1964-03</td>\n",
       "      <td>2755.0</td>\n",
       "    </tr>\n",
       "    <tr>\n",
       "      <th>3</th>\n",
       "      <td>1964-04</td>\n",
       "      <td>2721.0</td>\n",
       "    </tr>\n",
       "    <tr>\n",
       "      <th>4</th>\n",
       "      <td>1964-05</td>\n",
       "      <td>2946.0</td>\n",
       "    </tr>\n",
       "  </tbody>\n",
       "</table>\n",
       "</div>"
      ],
      "text/plain": [
       "     Month   Sales\n",
       "0  1964-01  2815.0\n",
       "1  1964-02  2672.0\n",
       "2  1964-03  2755.0\n",
       "3  1964-04  2721.0\n",
       "4  1964-05  2946.0"
      ]
     },
     "execution_count": 70,
     "metadata": {},
     "output_type": "execute_result"
    }
   ],
   "source": [
    "# cleaning up the data\n",
    "data.columns=[\"Month\",\"Sales\"]\n",
    "data.head()"
   ]
  },
  {
   "cell_type": "code",
   "execution_count": 71,
   "id": "8c3c79f0",
   "metadata": {},
   "outputs": [
    {
     "data": {
      "text/html": [
       "<div>\n",
       "<style scoped>\n",
       "    .dataframe tbody tr th:only-of-type {\n",
       "        vertical-align: middle;\n",
       "    }\n",
       "\n",
       "    .dataframe tbody tr th {\n",
       "        vertical-align: top;\n",
       "    }\n",
       "\n",
       "    .dataframe thead th {\n",
       "        text-align: right;\n",
       "    }\n",
       "</style>\n",
       "<table border=\"1\" class=\"dataframe\">\n",
       "  <thead>\n",
       "    <tr style=\"text-align: right;\">\n",
       "      <th></th>\n",
       "      <th>Month</th>\n",
       "      <th>Sales</th>\n",
       "    </tr>\n",
       "  </thead>\n",
       "  <tbody>\n",
       "    <tr>\n",
       "      <th>105</th>\n",
       "      <td>NaN</td>\n",
       "      <td>NaN</td>\n",
       "    </tr>\n",
       "    <tr>\n",
       "      <th>106</th>\n",
       "      <td>Perrin Freres monthly champagne sales millions...</td>\n",
       "      <td>NaN</td>\n",
       "    </tr>\n",
       "  </tbody>\n",
       "</table>\n",
       "</div>"
      ],
      "text/plain": [
       "                                                 Month  Sales\n",
       "105                                                NaN    NaN\n",
       "106  Perrin Freres monthly champagne sales millions...    NaN"
      ]
     },
     "execution_count": 71,
     "metadata": {},
     "output_type": "execute_result"
    }
   ],
   "source": [
    "data.iloc[105:107]"
   ]
  },
  {
   "cell_type": "code",
   "execution_count": 72,
   "id": "a4b691fb",
   "metadata": {},
   "outputs": [],
   "source": [
    "for i in range(0,len(data)):\n",
    "    \n",
    "    if i >= 105:\n",
    "        data.drop(i,axis=0,inplace=True)\n",
    "        \n",
    "   # else:\n",
    "         #break"
   ]
  },
  {
   "cell_type": "code",
   "execution_count": 73,
   "id": "ca28f706",
   "metadata": {},
   "outputs": [
    {
     "data": {
      "text/plain": [
       "(105, 2)"
      ]
     },
     "execution_count": 73,
     "metadata": {},
     "output_type": "execute_result"
    }
   ],
   "source": [
    "data.shape"
   ]
  },
  {
   "cell_type": "code",
   "execution_count": 74,
   "id": "e8e6af6a",
   "metadata": {},
   "outputs": [
    {
     "data": {
      "text/html": [
       "<div>\n",
       "<style scoped>\n",
       "    .dataframe tbody tr th:only-of-type {\n",
       "        vertical-align: middle;\n",
       "    }\n",
       "\n",
       "    .dataframe tbody tr th {\n",
       "        vertical-align: top;\n",
       "    }\n",
       "\n",
       "    .dataframe thead th {\n",
       "        text-align: right;\n",
       "    }\n",
       "</style>\n",
       "<table border=\"1\" class=\"dataframe\">\n",
       "  <thead>\n",
       "    <tr style=\"text-align: right;\">\n",
       "      <th></th>\n",
       "      <th>Month</th>\n",
       "      <th>Sales</th>\n",
       "    </tr>\n",
       "  </thead>\n",
       "  <tbody>\n",
       "    <tr>\n",
       "      <th>100</th>\n",
       "      <td>1972-05</td>\n",
       "      <td>4618.0</td>\n",
       "    </tr>\n",
       "    <tr>\n",
       "      <th>101</th>\n",
       "      <td>1972-06</td>\n",
       "      <td>5312.0</td>\n",
       "    </tr>\n",
       "    <tr>\n",
       "      <th>102</th>\n",
       "      <td>1972-07</td>\n",
       "      <td>4298.0</td>\n",
       "    </tr>\n",
       "    <tr>\n",
       "      <th>103</th>\n",
       "      <td>1972-08</td>\n",
       "      <td>1413.0</td>\n",
       "    </tr>\n",
       "    <tr>\n",
       "      <th>104</th>\n",
       "      <td>1972-09</td>\n",
       "      <td>5877.0</td>\n",
       "    </tr>\n",
       "  </tbody>\n",
       "</table>\n",
       "</div>"
      ],
      "text/plain": [
       "       Month   Sales\n",
       "100  1972-05  4618.0\n",
       "101  1972-06  5312.0\n",
       "102  1972-07  4298.0\n",
       "103  1972-08  1413.0\n",
       "104  1972-09  5877.0"
      ]
     },
     "execution_count": 74,
     "metadata": {},
     "output_type": "execute_result"
    }
   ],
   "source": [
    "data.tail()"
   ]
  },
  {
   "cell_type": "code",
   "execution_count": 75,
   "id": "dff5cec4",
   "metadata": {},
   "outputs": [
    {
     "data": {
      "text/plain": [
       "105"
      ]
     },
     "execution_count": 75,
     "metadata": {},
     "output_type": "execute_result"
    }
   ],
   "source": [
    "len(data)"
   ]
  },
  {
   "cell_type": "markdown",
   "id": "abad925f",
   "metadata": {},
   "source": [
    "while working with Time Series, especially ARIMA/Seasonal ARIMA the format has to be in datetime"
   ]
  },
  {
   "cell_type": "code",
   "execution_count": 76,
   "id": "b0e2a69b",
   "metadata": {},
   "outputs": [],
   "source": [
    "# convert month into datetime\n",
    "\n",
    "data['Month']=pd.to_datetime(data['Month'])"
   ]
  },
  {
   "cell_type": "code",
   "execution_count": 84,
   "id": "aa8f4108",
   "metadata": {},
   "outputs": [
    {
     "data": {
      "text/html": [
       "<div>\n",
       "<style scoped>\n",
       "    .dataframe tbody tr th:only-of-type {\n",
       "        vertical-align: middle;\n",
       "    }\n",
       "\n",
       "    .dataframe tbody tr th {\n",
       "        vertical-align: top;\n",
       "    }\n",
       "\n",
       "    .dataframe thead th {\n",
       "        text-align: right;\n",
       "    }\n",
       "</style>\n",
       "<table border=\"1\" class=\"dataframe\">\n",
       "  <thead>\n",
       "    <tr style=\"text-align: right;\">\n",
       "      <th></th>\n",
       "      <th>Sales</th>\n",
       "    </tr>\n",
       "    <tr>\n",
       "      <th>Month</th>\n",
       "      <th></th>\n",
       "    </tr>\n",
       "  </thead>\n",
       "  <tbody>\n",
       "    <tr>\n",
       "      <th>1964-02-01</th>\n",
       "      <td>2672.0</td>\n",
       "    </tr>\n",
       "  </tbody>\n",
       "</table>\n",
       "</div>"
      ],
      "text/plain": [
       "             Sales\n",
       "Month             \n",
       "1964-02-01  2672.0"
      ]
     },
     "execution_count": 84,
     "metadata": {},
     "output_type": "execute_result"
    }
   ],
   "source": [
    "data.sample()"
   ]
  },
  {
   "cell_type": "code",
   "execution_count": 79,
   "id": "5d535976",
   "metadata": {},
   "outputs": [],
   "source": [
    "data.set_index('Month', inplace=True)"
   ]
  },
  {
   "cell_type": "markdown",
   "id": "cc8b0bd4",
   "metadata": {},
   "source": [
    "## Step: 1\n",
    "    \n",
    "visualize the time series: check for \n",
    "trend, seasonality or random patterns"
   ]
  },
  {
   "cell_type": "code",
   "execution_count": 91,
   "id": "232ed072",
   "metadata": {},
   "outputs": [
    {
     "data": {
      "text/plain": [
       "[<matplotlib.lines.Line2D at 0x2127bface20>]"
      ]
     },
     "execution_count": 91,
     "metadata": {},
     "output_type": "execute_result"
    },
    {
     "data": {
      "image/png": "[encoded data removed]",
      "text/plain": [
       "<Figure size 720x360 with 1 Axes>"
      ]
     },
     "metadata": {
      "needs_background": "light"
     },
     "output_type": "display_data"
    }
   ],
   "source": [
    "plt.figure(figsize=(10,5))\n",
    "plt.plot(data)"
   ]
  },
  {
   "cell_type": "markdown",
   "id": "9bc8fd01",
   "metadata": {},
   "source": [
    "- check if the data is stationary if not make it \n",
    "- the data looks seasonal, e.g.,the sales is higher in summer than winter"
   ]
  },
  {
   "cell_type": "code",
   "execution_count": 92,
   "id": "505d0974",
   "metadata": {},
   "outputs": [],
   "source": [
    "# Testing for stationarity\n",
    "\n",
    "from statsmodels.tsa.stattools import adfuller"
   ]
  },
  {
   "cell_type": "code",
   "execution_count": 93,
   "id": "2a4a3de7",
   "metadata": {},
   "outputs": [],
   "source": [
    "test_result = adfuller(data['Sales']) # gives 5 different values"
   ]
  },
  {
   "cell_type": "code",
   "execution_count": 94,
   "id": "6beb470b",
   "metadata": {},
   "outputs": [],
   "source": [
    "#Ho: it is non-stationary (null hypothesis)\n",
    "#H1: it is stationary\n",
    "\n",
    "def adfuller_test(timeseries):\n",
    "    \n",
    "    result = adfuller(timeseries)\n",
    "    labels = ['ADF Test Statistic','p-value','#Lags Used','Number of Observations used']\n",
    "    \n",
    "\n",
    "    for value, label in zip(result,labels):\n",
    "            print(label+':'+str(value))\n",
    "            \n",
    "    if result[1] <= 0.05:\n",
    "        print('strong evidence against null hypothesis(Ho), reject the null hypothesis. Data has no unit root and is stationary')\n",
    "    else:\n",
    "        print(\"weak evidence against null hypothesis, time series has a unit root, indicating it is non-stationary \")"
   ]
  },
  {
   "cell_type": "code",
   "execution_count": 95,
   "id": "91228e47",
   "metadata": {
    "scrolled": true
   },
   "outputs": [
    {
     "name": "stdout",
     "output_type": "stream",
     "text": [
      "ADF Test Statistic:-1.8335930563276248\n",
      "p-value:0.363915771660244\n",
      "#Lags Used:11\n",
      "Number of Observations used:93\n",
      "weak evidence against null hypothesis, time series has a unit root, indicating it is non-stationary \n"
     ]
    }
   ],
   "source": [
    "adfuller_test(data['Sales']) "
   ]
  },
  {
   "cell_type": "markdown",
   "id": "a4e2dc70",
   "metadata": {},
   "source": [
    "in here we accept the null hypothesis, since the p-value > 0.05 and its is non-stationary"
   ]
  },
  {
   "cell_type": "markdown",
   "id": "49c067cc",
   "metadata": {},
   "source": [
    "## Step: 2\n",
    "\n",
    "stationarise the series: using \n",
    "decomposition/differencing techniques"
   ]
  },
  {
   "cell_type": "markdown",
   "id": "a7200fe9",
   "metadata": {},
   "source": [
    "## Differencing"
   ]
  },
  {
   "cell_type": "code",
   "execution_count": 109,
   "id": "4388ebbf",
   "metadata": {},
   "outputs": [],
   "source": [
    "data['Sales First Difference'] = data['Sales'] - data['Sales'].shift(1)"
   ]
  },
  {
   "cell_type": "code",
   "execution_count": 110,
   "id": "766c6b5b",
   "metadata": {},
   "outputs": [],
   "source": [
    "data['Seasonal First Difference'] = data['Sales'] - data['Sales'].shift(12)"
   ]
  },
  {
   "cell_type": "code",
   "execution_count": 113,
   "id": "33271ba5",
   "metadata": {},
   "outputs": [
    {
     "data": {
      "text/html": [
       "<div>\n",
       "<style scoped>\n",
       "    .dataframe tbody tr th:only-of-type {\n",
       "        vertical-align: middle;\n",
       "    }\n",
       "\n",
       "    .dataframe tbody tr th {\n",
       "        vertical-align: top;\n",
       "    }\n",
       "\n",
       "    .dataframe thead th {\n",
       "        text-align: right;\n",
       "    }\n",
       "</style>\n",
       "<table border=\"1\" class=\"dataframe\">\n",
       "  <thead>\n",
       "    <tr style=\"text-align: right;\">\n",
       "      <th></th>\n",
       "      <th>Sales</th>\n",
       "      <th>Sales First Difference</th>\n",
       "      <th>Seasonal First Difference</th>\n",
       "    </tr>\n",
       "    <tr>\n",
       "      <th>Month</th>\n",
       "      <th></th>\n",
       "      <th></th>\n",
       "      <th></th>\n",
       "    </tr>\n",
       "  </thead>\n",
       "  <tbody>\n",
       "    <tr>\n",
       "      <th>1964-01-01</th>\n",
       "      <td>2815.0</td>\n",
       "      <td>NaN</td>\n",
       "      <td>NaN</td>\n",
       "    </tr>\n",
       "    <tr>\n",
       "      <th>1964-02-01</th>\n",
       "      <td>2672.0</td>\n",
       "      <td>-143.0</td>\n",
       "      <td>NaN</td>\n",
       "    </tr>\n",
       "    <tr>\n",
       "      <th>1964-03-01</th>\n",
       "      <td>2755.0</td>\n",
       "      <td>83.0</td>\n",
       "      <td>NaN</td>\n",
       "    </tr>\n",
       "    <tr>\n",
       "      <th>1964-04-01</th>\n",
       "      <td>2721.0</td>\n",
       "      <td>-34.0</td>\n",
       "      <td>NaN</td>\n",
       "    </tr>\n",
       "    <tr>\n",
       "      <th>1964-05-01</th>\n",
       "      <td>2946.0</td>\n",
       "      <td>225.0</td>\n",
       "      <td>NaN</td>\n",
       "    </tr>\n",
       "    <tr>\n",
       "      <th>1964-06-01</th>\n",
       "      <td>3036.0</td>\n",
       "      <td>90.0</td>\n",
       "      <td>NaN</td>\n",
       "    </tr>\n",
       "    <tr>\n",
       "      <th>1964-07-01</th>\n",
       "      <td>2282.0</td>\n",
       "      <td>-754.0</td>\n",
       "      <td>NaN</td>\n",
       "    </tr>\n",
       "    <tr>\n",
       "      <th>1964-08-01</th>\n",
       "      <td>2212.0</td>\n",
       "      <td>-70.0</td>\n",
       "      <td>NaN</td>\n",
       "    </tr>\n",
       "    <tr>\n",
       "      <th>1964-09-01</th>\n",
       "      <td>2922.0</td>\n",
       "      <td>710.0</td>\n",
       "      <td>NaN</td>\n",
       "    </tr>\n",
       "    <tr>\n",
       "      <th>1964-10-01</th>\n",
       "      <td>4301.0</td>\n",
       "      <td>1379.0</td>\n",
       "      <td>NaN</td>\n",
       "    </tr>\n",
       "    <tr>\n",
       "      <th>1964-11-01</th>\n",
       "      <td>5764.0</td>\n",
       "      <td>1463.0</td>\n",
       "      <td>NaN</td>\n",
       "    </tr>\n",
       "    <tr>\n",
       "      <th>1964-12-01</th>\n",
       "      <td>7312.0</td>\n",
       "      <td>1548.0</td>\n",
       "      <td>NaN</td>\n",
       "    </tr>\n",
       "    <tr>\n",
       "      <th>1965-01-01</th>\n",
       "      <td>2541.0</td>\n",
       "      <td>-4771.0</td>\n",
       "      <td>-274.0</td>\n",
       "    </tr>\n",
       "    <tr>\n",
       "      <th>1965-02-01</th>\n",
       "      <td>2475.0</td>\n",
       "      <td>-66.0</td>\n",
       "      <td>-197.0</td>\n",
       "    </tr>\n",
       "  </tbody>\n",
       "</table>\n",
       "</div>"
      ],
      "text/plain": [
       "             Sales  Sales First Difference  Seasonal First Difference\n",
       "Month                                                                \n",
       "1964-01-01  2815.0                     NaN                        NaN\n",
       "1964-02-01  2672.0                  -143.0                        NaN\n",
       "1964-03-01  2755.0                    83.0                        NaN\n",
       "1964-04-01  2721.0                   -34.0                        NaN\n",
       "1964-05-01  2946.0                   225.0                        NaN\n",
       "1964-06-01  3036.0                    90.0                        NaN\n",
       "1964-07-01  2282.0                  -754.0                        NaN\n",
       "1964-08-01  2212.0                   -70.0                        NaN\n",
       "1964-09-01  2922.0                   710.0                        NaN\n",
       "1964-10-01  4301.0                  1379.0                        NaN\n",
       "1964-11-01  5764.0                  1463.0                        NaN\n",
       "1964-12-01  7312.0                  1548.0                        NaN\n",
       "1965-01-01  2541.0                 -4771.0                     -274.0\n",
       "1965-02-01  2475.0                   -66.0                     -197.0"
      ]
     },
     "execution_count": 113,
     "metadata": {},
     "output_type": "execute_result"
    }
   ],
   "source": [
    "data.head(14)"
   ]
  },
  {
   "cell_type": "code",
   "execution_count": 114,
   "id": "d29fda38",
   "metadata": {},
   "outputs": [
    {
     "name": "stdout",
     "output_type": "stream",
     "text": [
      "ADF Test Statistic:-7.626619157213163\n",
      "p-value:2.060579696813685e-11\n",
      "#Lags Used:0\n",
      "Number of Observations used:92\n",
      "strong evidence against null hypothesis(Ho), reject the null hypothesis. Data has no unit root and is stationary\n"
     ]
    }
   ],
   "source": [
    "# reapply using duckey-fuller test again\n",
    "adfuller_test(data['Seasonal First Difference'].dropna())"
   ]
  },
  {
   "cell_type": "code",
   "execution_count": 116,
   "id": "63a617e6",
   "metadata": {
    "scrolled": true
   },
   "outputs": [
    {
     "data": {
      "text/plain": [
       "<AxesSubplot:xlabel='Month'>"
      ]
     },
     "execution_count": 116,
     "metadata": {},
     "output_type": "execute_result"
    },
    {
     "data": {
      "image/png": "[encoded data removed]",
      "text/plain": [
       "<Figure size 432x288 with 1 Axes>"
      ]
     },
     "metadata": {
      "needs_background": "light"
     },
     "output_type": "display_data"
    }
   ],
   "source": [
    "data['Seasonal First Difference'].plot()"
   ]
  },
  {
   "cell_type": "markdown",
   "id": "408d0ed7",
   "metadata": {},
   "source": [
    "## Step: 3\n",
    "plot ACF/PACF(auto correlation \n",
    "function & partial) find (p,d,q) parameters"
   ]
  },
  {
   "cell_type": "markdown",
   "id": "c6d55992",
   "metadata": {},
   "source": [
    "#### Stationarity \n",
    "A common assumption in many time series techniques is that the data are stationary. A stationary process has the property that the mean, variance and autocorrelation structure do not change over time."
   ]
  },
  {
   "cell_type": "markdown",
   "id": "22b72b8d",
   "metadata": {},
   "source": [
    "## Auto Regressive Model"
   ]
  },
  {
   "cell_type": "markdown",
   "id": "adc159c6",
   "metadata": {},
   "source": [
    "#### Final Thoughts on Autocorrelation and Partial Autocorrelation\n",
    "\n",
    "- Identification of an AR model is often best done with the PACF.\n",
    "- For an AR model, the theoretical PACF “shuts off” past the order of the model. The phrase “shuts off” means that in theory the partial autocorrelations are equal to 0 beyond that point. Put another way, the number of non-zero partial autocorrelations gives the order of the AR model. By the “order of the model” we mean the most extreme lag of x that is used as a predictor."
   ]
  },
  {
   "cell_type": "markdown",
   "id": "ce249f4a",
   "metadata": {},
   "source": [
    "- Identification of an MA model is often best done with the ACF rather than the PACF.\n",
    "\n",
    "- For an MA model, the theoretical PACF does not shut off, but instead tapers toward 0 in some manner. A clearer pattern for an MA model is in the ACF. The ACF will have non-zero autocorrelations only at lags involved in the model.\n",
    "\n",
    "p,d,q p AR model lags d differencing q MA lags"
   ]
  },
  {
   "cell_type": "code",
   "execution_count": 121,
   "id": "3ec3fcdd",
   "metadata": {},
   "outputs": [],
   "source": [
    "from statsmodels.graphics.tsaplots import plot_acf, plot_pacf"
   ]
  },
  {
   "cell_type": "code",
   "execution_count": 126,
   "id": "8fea7486",
   "metadata": {},
   "outputs": [
    {
     "data": {
      "image/png": "[encoded data removed]",
      "text/plain": [
       "<Figure size 864x576 with 2 Axes>"
      ]
     },
     "metadata": {
      "needs_background": "light"
     },
     "output_type": "display_data"
    }
   ],
   "source": [
    "fig = plt.figure(figsize=(12,8))\n",
    "ax1 = fig.add_subplot(211) # opsition of the sublot\n",
    "fig = plot_acf(data['Seasonal First Difference'].iloc[13:], lags=40, ax=ax1) # 1st 12 values are NaN\n",
    "ax2 = fig.add_subplot(212)\n",
    "fig = plot_pacf(data['Seasonal First Difference'].iloc[13:], lags=40, ax=ax2)"
   ]
  },
  {
   "cell_type": "markdown",
   "id": "8374742b",
   "metadata": {},
   "source": [
    "- AR = p = 1 (in here PACF shuts off at 1)\n",
    "- MA = q = 1 (tapers toward 0)\n",
    "-      d = 1 (seasonal differencing was worked out at 1time) "
   ]
  },
  {
   "cell_type": "markdown",
   "id": "322dae7d",
   "metadata": {},
   "source": [
    "## Step: 4\n",
    "Build an SARIMA model"
   ]
  },
  {
   "cell_type": "markdown",
   "id": "5fa626ef",
   "metadata": {},
   "source": [
    "since the data has seasonality we skip ARIMA model and proceed with Seasonal ARIMA"
   ]
  },
  {
   "cell_type": "code",
   "execution_count": null,
   "id": "bf08926b",
   "metadata": {},
   "outputs": [],
   "source": [
    "#ARIMA\n",
    "#should be used only when data is not seasonal, it is just an example in here\n",
    "\n",
    "#model = ARIMA(data['Sales'], order=(1,1,1))\n",
    "#model_fit = model.fit()no\n",
    "#model_fit.summary()"
   ]
  },
  {
   "cell_type": "markdown",
   "id": "a7c9ac2b",
   "metadata": {},
   "source": [
    "## Seasonal ARIMA"
   ]
  },
  {
   "cell_type": "code",
   "execution_count": 137,
   "id": "c329ff92",
   "metadata": {},
   "outputs": [],
   "source": [
    "import statsmodels.api as sm"
   ]
  },
  {
   "cell_type": "code",
   "execution_count": 138,
   "id": "363676b9",
   "metadata": {},
   "outputs": [
    {
     "name": "stderr",
     "output_type": "stream",
     "text": [
      "C:\\Users\\jaiha\\anaconda3\\lib\\site-packages\\statsmodels\\tsa\\base\\tsa_model.py:524: ValueWarning: No frequency information was provided, so inferred frequency MS will be used.\n",
      "  warnings.warn('No frequency information was'\n"
     ]
    }
   ],
   "source": [
    "model=sm.tsa.statespace.SARIMAX(data['Sales'], order=(1,1,1), seasonal_order=(1,1,1,12))\n",
    "results = model.fit()"
   ]
  },
  {
   "cell_type": "code",
   "execution_count": 140,
   "id": "cdca4449",
   "metadata": {},
   "outputs": [
    {
     "data": {
      "text/plain": [
       "<AxesSubplot:xlabel='Month'>"
      ]
     },
     "execution_count": 140,
     "metadata": {},
     "output_type": "execute_result"
    },
    {
     "data": {
      "image/png": "[encoded data removed]",
      "text/plain": [
       "<Figure size 864x576 with 1 Axes>"
      ]
     },
     "metadata": {
      "needs_background": "light"
     },
     "output_type": "display_data"
    }
   ],
   "source": [
    "data['forecast'] = results.predict(start=90,end=103,dynamic=True)\n",
    "data[['Sales','forecast']].plot(figsize=(12,8))"
   ]
  },
  {
   "cell_type": "markdown",
   "id": "c5c2f967",
   "metadata": {},
   "source": [
    "the prediction line green looks good with the actual one "
   ]
  },
  {
   "cell_type": "markdown",
   "id": "b9384fbd",
   "metadata": {},
   "source": [
    "## Step: 5\n",
    "make predictions using final \n",
    "ARIMA model"
   ]
  },
  {
   "cell_type": "markdown",
   "id": "878f65ad",
   "metadata": {},
   "source": [
    "### Future Prediction"
   ]
  },
  {
   "cell_type": "code",
   "execution_count": 143,
   "id": "337c4e47",
   "metadata": {},
   "outputs": [],
   "source": [
    "from pandas.tseries.offsets import DateOffset\n",
    "future_dates=[data.index[-1]+DateOffset(months=x)for x in range(0,24)]"
   ]
  },
  {
   "cell_type": "code",
   "execution_count": 145,
   "id": "cffd5472",
   "metadata": {},
   "outputs": [],
   "source": [
    "future_date_data = pd.DataFrame(index=future_dates[1:],columns=data.columns)"
   ]
  },
  {
   "cell_type": "code",
   "execution_count": 146,
   "id": "1d8471ae",
   "metadata": {},
   "outputs": [
    {
     "data": {
      "text/html": [
       "<div>\n",
       "<style scoped>\n",
       "    .dataframe tbody tr th:only-of-type {\n",
       "        vertical-align: middle;\n",
       "    }\n",
       "\n",
       "    .dataframe tbody tr th {\n",
       "        vertical-align: top;\n",
       "    }\n",
       "\n",
       "    .dataframe thead th {\n",
       "        text-align: right;\n",
       "    }\n",
       "</style>\n",
       "<table border=\"1\" class=\"dataframe\">\n",
       "  <thead>\n",
       "    <tr style=\"text-align: right;\">\n",
       "      <th></th>\n",
       "      <th>Sales</th>\n",
       "      <th>Sales First Difference</th>\n",
       "      <th>Seasonal First Difference</th>\n",
       "      <th>forecast</th>\n",
       "    </tr>\n",
       "  </thead>\n",
       "  <tbody>\n",
       "    <tr>\n",
       "      <th>1974-04-01</th>\n",
       "      <td>NaN</td>\n",
       "      <td>NaN</td>\n",
       "      <td>NaN</td>\n",
       "      <td>NaN</td>\n",
       "    </tr>\n",
       "    <tr>\n",
       "      <th>1974-05-01</th>\n",
       "      <td>NaN</td>\n",
       "      <td>NaN</td>\n",
       "      <td>NaN</td>\n",
       "      <td>NaN</td>\n",
       "    </tr>\n",
       "    <tr>\n",
       "      <th>1974-06-01</th>\n",
       "      <td>NaN</td>\n",
       "      <td>NaN</td>\n",
       "      <td>NaN</td>\n",
       "      <td>NaN</td>\n",
       "    </tr>\n",
       "    <tr>\n",
       "      <th>1974-07-01</th>\n",
       "      <td>NaN</td>\n",
       "      <td>NaN</td>\n",
       "      <td>NaN</td>\n",
       "      <td>NaN</td>\n",
       "    </tr>\n",
       "    <tr>\n",
       "      <th>1974-08-01</th>\n",
       "      <td>NaN</td>\n",
       "      <td>NaN</td>\n",
       "      <td>NaN</td>\n",
       "      <td>NaN</td>\n",
       "    </tr>\n",
       "  </tbody>\n",
       "</table>\n",
       "</div>"
      ],
      "text/plain": [
       "           Sales Sales First Difference Seasonal First Difference forecast\n",
       "1974-04-01   NaN                    NaN                       NaN      NaN\n",
       "1974-05-01   NaN                    NaN                       NaN      NaN\n",
       "1974-06-01   NaN                    NaN                       NaN      NaN\n",
       "1974-07-01   NaN                    NaN                       NaN      NaN\n",
       "1974-08-01   NaN                    NaN                       NaN      NaN"
      ]
     },
     "execution_count": 146,
     "metadata": {},
     "output_type": "execute_result"
    }
   ],
   "source": [
    "future_date_data.tail()"
   ]
  },
  {
   "cell_type": "code",
   "execution_count": 150,
   "id": "8b3783d5",
   "metadata": {},
   "outputs": [],
   "source": [
    "future_data = pd.concat([data,future_date_data])"
   ]
  },
  {
   "cell_type": "code",
   "execution_count": 152,
   "id": "c06cc191",
   "metadata": {},
   "outputs": [
    {
     "data": {
      "text/plain": [
       "<AxesSubplot:>"
      ]
     },
     "execution_count": 152,
     "metadata": {},
     "output_type": "execute_result"
    },
    {
     "data": {
      "image/png": "[encoded data removed]",
      "text/plain": [
       "<Figure size 864x576 with 1 Axes>"
      ]
     },
     "metadata": {
      "needs_background": "light"
     },
     "output_type": "display_data"
    }
   ],
   "source": [
    "future_data['forecast'] = results.predict(start=104,end=120,dynamic=True)\n",
    "future_data[['Sales','forecast']].plot(figsize=(12,8))"
   ]
  },
  {
   "cell_type": "code",
   "execution_count": null,
   "id": "f1516cc4",
   "metadata": {},
   "outputs": [],
   "source": []
  }
 ],
 "metadata": {
  "kernelspec": {
   "display_name": "Python 3 (ipykernel)",
   "language": "python",
   "name": "python3"
  },
  "language_info": {
   "codemirror_mode": {
    "name": "ipython",
    "version": 3
   },
   "file_extension": ".py",
   "mimetype": "text/x-python",
   "name": "python",
   "nbconvert_exporter": "python",
   "pygments_lexer": "ipython3",
   "version": "3.9.7"
  }
 },
 "nbformat": 4,
 "nbformat_minor": 5
}
